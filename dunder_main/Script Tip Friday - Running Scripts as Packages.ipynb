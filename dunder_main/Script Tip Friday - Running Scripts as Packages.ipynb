{
 "cells": [
  {
   "cell_type": "markdown",
   "id": "42464cd3",
   "metadata": {},
   "source": [
    "# Running Scripts as Packages  using `__main__.py`\n",
    "\n",
    "It's that time of the week again friends! When writing Python scripts how do you go about executing them? I bet you probably do it like this:\n",
    "\n",
    "```\n",
    "C:\\> python my_script.py --args \n",
    "```\n",
    "\n",
    "right? And that's fine! This is simple, and it works nice, and it's good clean fun. \n",
    "\n",
    "But, as you go and create more scripts, with more and more complex behaviours, it can get a bit cumbersome. You might, like me, have scripts for your own computer that you want to run everywhere and are tired of moving your script around your computer to get the most out of it. \n",
    "\n",
    "For example, I have a time-logging tool (wot I wrote all by myself) that tracks my hours against specific tasks. It uses a simple GUI built in tkinter and saves the results to a json in my home folder. It's a nice little application, and the truth is I barely use it.\n",
    "\n",
    "![\"Watcherina of Time\"](./media/watcherina.png)\n",
    "\n",
    "> Yes it's called the \"Watcherina of time\", yes I am proud of myself, yes I did make the little Ocarina/Eye logo myself, how could you tell?\n",
    "\n",
    "I barely use it because I can't run it from *anywhere*. When I need to open it, the script is never where I want it. I have to run it specifically wherever the file is to open it (I keep forgetting). It just becomes *easier* to use the builtin Windows timer or note down the time on my phone <sub>or just guess, *but don't tell anyone!!*</sub>. It's a real shame! This could save me (and my friends) a lot of **time** <sup>(ho ho ho)</sup>.\n",
    "\n",
    "But there's a way around this, that doesn't involve messing about with the environmental paths and it's pretty simple.\n",
    "\n",
    "What we do is turn our script into a package and alongside the `__init__.py` add a `__main__.py`. In `__main__.py` we run the equivalent `main()` for our package.\n",
    "\n",
    "All in all our `__main__.py` looks like this:\n",
    "\n",
    "```Python\n",
    "from .main import main\n",
    "\n",
    "\n",
    "main()\n",
    "```\n",
    "\n",
    "This means that if we turn our script into a package (e.g. build it into a `.whl` file or a tarball) and install it, we can call the script as if it were a package. Then, the function in `__main__.py` will be called.\n",
    "\n",
    "![Aeuh?! - Tim Allen](media/aeuh.PNG)\n",
    "\n",
    "> Aeuh?!\n",
    "\n",
    "What? Well, here's a super simple example to demonstrate it.\n",
    "\n",
    "I've written a small package (using [ansys-templates](https://github.com/pyansys/ansys-templates)) that simply prints the current date, and time to screen. The package is structured like so.\n",
    "\n",
    "```\n",
    ".\n",
    "└── src/\n",
    "    └── script-package/\n",
    "        ├── __init__.py\n",
    "        ├── __main__.py\n",
    "        └── script.py\n",
    "```\n",
    "\n",
    "The `__init__.py` file is simply empty, but the `script.py` file contains this."
   ]
  },
  {
   "cell_type": "code",
   "execution_count": 2,
   "id": "6c7de04c",
   "metadata": {},
   "outputs": [],
   "source": [
    "import datetime\n",
    "\n",
    "\n",
    "def print_now():\n",
    "    print(datetime.datetime.now())"
   ]
  },
  {
   "cell_type": "markdown",
   "id": "b6c65458",
   "metadata": {},
   "source": [
    "And the `__main__.py` file contains this.\n",
    "\n",
    "```Python\n",
    "from .script import print_now\n",
    "\n",
    "\n",
    "print_now()\n",
    "```"
   ]
  },
  {
   "cell_type": "markdown",
   "id": "3ede2fbd",
   "metadata": {},
   "source": [
    "When we build this package using the `build` library and install it via pip, we can suddenly run our script anywhere our Python is recognised.\n",
    "\n",
    "```\n",
    "(venv) PS C:\\Users\\jderrick\\script_package> python -m script_package\n",
    "2022-06-29 12:29:38.164653\n",
    "```\n",
    "\n",
    "From this point it is trivial to replace `print_now()` with some sort of `main()` function that does everything we want in a single command.\n",
    "\n",
    "This is one way to distribute your scripts and it brings many useful features, such as the ability to version your scripts and keep them up to date. Plus, if you'd prefer, you can bundle all of your scripts into a single package with a simple command-line interface (CLI). It's a useful tool, especially when scripting. This is how I keep track of all my scripts! I have a package indulgently named \"pyjames\" on my computer where I keep all my scripts as little functions, which I can call with a simple CLI. Another tool for the ring! Here's hoping I log my time more efficiently in the future..."
   ]
  },
  {
   "cell_type": "code",
   "execution_count": null,
   "id": "866ee623",
   "metadata": {},
   "outputs": [],
   "source": []
  }
 ],
 "metadata": {
  "kernelspec": {
   "display_name": "Python 3 (ipykernel)",
   "language": "python",
   "name": "python3"
  },
  "language_info": {
   "codemirror_mode": {
    "name": "ipython",
    "version": 3
   },
   "file_extension": ".py",
   "mimetype": "text/x-python",
   "name": "python",
   "nbconvert_exporter": "python",
   "pygments_lexer": "ipython3",
   "version": "3.8.6"
  }
 },
 "nbformat": 4,
 "nbformat_minor": 5
}
